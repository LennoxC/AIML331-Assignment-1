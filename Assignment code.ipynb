{
 "cells": [
  {
   "metadata": {},
   "cell_type": "markdown",
   "source": [
    "# AIML331 Assignment 1\n",
    "## crowelenn | 300607096"
   ],
   "id": "8a77807f92f26ee"
  },
  {
   "metadata": {
    "ExecuteTime": {
     "end_time": "2025-03-20T04:30:27.638820Z",
     "start_time": "2025-03-20T04:30:27.630165Z"
    }
   },
   "cell_type": "code",
   "source": "import numpy as np",
   "id": "fbc121e30a2defb3",
   "outputs": [],
   "execution_count": 202
  },
  {
   "metadata": {},
   "cell_type": "markdown",
   "source": [
    "## Question 1: Camera Problem\n",
    "\n",
    "**1.1** Your pinhole camera is at [X, Y, Z] = [0, 0, −10]] and sits on a horizontal table. It is pointing 30 degrees to the right relative to the origin of the world coordinates. Compute the [R, t] matrix converting world coordinates to camera coordinates."
   ],
   "id": "260bc1618dac1868"
  },
  {
   "metadata": {
    "ExecuteTime": {
     "end_time": "2025-03-20T04:30:27.652131Z",
     "start_time": "2025-03-20T04:30:27.645816Z"
    }
   },
   "cell_type": "code",
   "source": [
    "yaw = np.radians(30)\n",
    "pitch = np.radians(0)\n",
    "roll = np.radians(0)\n",
    "\n",
    "a = yaw\n",
    "b = pitch\n",
    "y = roll"
   ],
   "id": "34dc4203075c7c05",
   "outputs": [],
   "execution_count": 203
  },
  {
   "metadata": {
    "ExecuteTime": {
     "end_time": "2025-03-20T04:30:27.667576Z",
     "start_time": "2025-03-20T04:30:27.661757Z"
    }
   },
   "cell_type": "code",
   "source": "from numpy import cos, sin",
   "id": "d1676245afbafd0e",
   "outputs": [],
   "execution_count": 204
  },
  {
   "metadata": {
    "ExecuteTime": {
     "end_time": "2025-03-20T04:30:27.690954Z",
     "start_time": "2025-03-20T04:30:27.684935Z"
    }
   },
   "cell_type": "code",
   "source": [
    "R = np.array(\n",
    "    [\n",
    "        [cos(b)*cos(y), sin(a)*sin(b)*cos(y) - cos(a)*sin(y), cos(a)*sin(b)*cos(y) + sin(a)*sin(y)],\n",
    "        [cos(b)*sin(y), sin(a)*sin(b)*sin(y) + cos(a)*cos(y), cos(a)*sin(b)*sin(y) - sin(a)*cos(y)],\n",
    "        [-sin(b), sin(a)*cos(b), cos(a)*cos(b)]\n",
    "    ])"
   ],
   "id": "80d94898f5f648e4",
   "outputs": [],
   "execution_count": 205
  },
  {
   "metadata": {
    "ExecuteTime": {
     "end_time": "2025-03-20T04:30:27.700548Z",
     "start_time": "2025-03-20T04:30:27.692703Z"
    }
   },
   "cell_type": "code",
   "source": "t = np.array([[0, 0, -10]]).T",
   "id": "ddd707e4b9cdb2d0",
   "outputs": [],
   "execution_count": 206
  },
  {
   "metadata": {
    "ExecuteTime": {
     "end_time": "2025-03-20T04:30:27.715703Z",
     "start_time": "2025-03-20T04:30:27.710228Z"
    }
   },
   "cell_type": "code",
   "source": [
    "Rt = np.concatenate((R, t), axis=1)\n",
    "Rt = np.concatenate((Rt, [[0, 0, 0, 1]]), axis=0)"
   ],
   "id": "3fefe4069050cbe9",
   "outputs": [],
   "execution_count": 207
  },
  {
   "metadata": {
    "ExecuteTime": {
     "end_time": "2025-03-20T04:30:27.732273Z",
     "start_time": "2025-03-20T04:30:27.725156Z"
    }
   },
   "cell_type": "code",
   "source": "Rt",
   "id": "acdb9ba8ee4509a6",
   "outputs": [
    {
     "data": {
      "text/plain": [
       "array([[  1.       ,   0.       ,   0.       ,   0.       ],\n",
       "       [  0.       ,   0.8660254,  -0.5      ,   0.       ],\n",
       "       [ -0.       ,   0.5      ,   0.8660254, -10.       ],\n",
       "       [  0.       ,   0.       ,   0.       ,   1.       ]])"
      ]
     },
     "execution_count": 208,
     "metadata": {},
     "output_type": "execute_result"
    }
   ],
   "execution_count": 208
  },
  {
   "metadata": {},
   "cell_type": "markdown",
   "source": "**1.2** Your camera has f = 0.1 (focal length, as used in pinhole camera). Using homogeneous coordinates compute the equation of a line on the projective plane that goes through the points that correspond to [0, 1, 0] and [0, 0, 1] in the world coordinates",
   "id": "70bd3e2f3c0d6715"
  },
  {
   "metadata": {
    "ExecuteTime": {
     "end_time": "2025-03-20T04:30:27.785648Z",
     "start_time": "2025-03-20T04:30:27.781265Z"
    }
   },
   "cell_type": "code",
   "source": "f = 0.1",
   "id": "cdb6e0588fd4bb0f",
   "outputs": [],
   "execution_count": 209
  },
  {
   "metadata": {
    "ExecuteTime": {
     "end_time": "2025-03-20T04:30:27.844507Z",
     "start_time": "2025-03-20T04:30:27.838833Z"
    }
   },
   "cell_type": "code",
   "source": [
    "K = np.array([[f, 0, 0, 0],\n",
    "              [0, f, 0, 0],\n",
    "              [0, 0, 1, 0]])"
   ],
   "id": "c741d81d4e80c105",
   "outputs": [],
   "execution_count": 210
  },
  {
   "metadata": {
    "ExecuteTime": {
     "end_time": "2025-03-20T04:30:27.880099Z",
     "start_time": "2025-03-20T04:30:27.875105Z"
    }
   },
   "cell_type": "code",
   "source": [
    "world_1 = np.array([[0, 1, 0, 1]]).T\n",
    "world_2 = np.array([[0, 0, 1, 1]]).T"
   ],
   "id": "80efae58d7e74d3b",
   "outputs": [],
   "execution_count": 211
  },
  {
   "metadata": {
    "ExecuteTime": {
     "end_time": "2025-03-20T04:30:27.905237Z",
     "start_time": "2025-03-20T04:30:27.900294Z"
    }
   },
   "cell_type": "code",
   "source": "proj_1 = K @ Rt @ world_1",
   "id": "38fff6004a51a387",
   "outputs": [],
   "execution_count": 212
  },
  {
   "metadata": {
    "ExecuteTime": {
     "end_time": "2025-03-20T04:30:27.930244Z",
     "start_time": "2025-03-20T04:30:27.926245Z"
    }
   },
   "cell_type": "code",
   "source": "proj_2 = K @ Rt @ world_2",
   "id": "577975bb3b5a624c",
   "outputs": [],
   "execution_count": 213
  },
  {
   "metadata": {
    "ExecuteTime": {
     "end_time": "2025-03-20T04:30:27.952371Z",
     "start_time": "2025-03-20T04:30:27.945514Z"
    }
   },
   "cell_type": "code",
   "source": "np.cross(proj_1.T, proj_2.T)",
   "id": "8f44deeb31bad3f7",
   "outputs": [
    {
     "data": {
      "text/plain": [
       "array([[-1.2660254,  0.       , -0.       ]])"
      ]
     },
     "execution_count": 214,
     "metadata": {},
     "output_type": "execute_result"
    }
   ],
   "execution_count": 214
  },
  {
   "metadata": {},
   "cell_type": "markdown",
   "source": "This is a vertical line as the y-component is 0.",
   "id": "ff48afcd2434d35e"
  },
  {
   "metadata": {
    "ExecuteTime": {
     "end_time": "2025-03-20T04:30:28.398743Z",
     "start_time": "2025-03-20T04:30:28.395028Z"
    }
   },
   "cell_type": "code",
   "source": "",
   "id": "90d7e07b2fe9efd5",
   "outputs": [],
   "execution_count": null
  }
 ],
 "metadata": {
  "kernelspec": {
   "display_name": "Python 3",
   "language": "python",
   "name": "python3"
  },
  "language_info": {
   "codemirror_mode": {
    "name": "ipython",
    "version": 2
   },
   "file_extension": ".py",
   "mimetype": "text/x-python",
   "name": "python",
   "nbconvert_exporter": "python",
   "pygments_lexer": "ipython2",
   "version": "2.7.6"
  }
 },
 "nbformat": 4,
 "nbformat_minor": 5
}
